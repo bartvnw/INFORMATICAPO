{
 "cells": [
  {
   "cell_type": "markdown",
   "metadata": {},
   "source": [
<<<<<<< HEAD
    "<p style=\"font-size:90px\">OMG het werkt</p>"
=======
    "<p style=\"font-size:90px\">aLS JE DIT ziet dan werkt het uploaden</p>"
>>>>>>> b0f17061f7da1328c4141cc4706dfb34e55fc8a7
   ]
  },
  {
   "cell_type": "markdown",
   "metadata": {},
   "source": []
  }
 ],
 "metadata": {
  "language_info": {
   "name": "python"
  }
 },
 "nbformat": 4,
 "nbformat_minor": 2
}
